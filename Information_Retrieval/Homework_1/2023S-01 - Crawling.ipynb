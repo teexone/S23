{
 "cells": [
  {
   "attachments": {},
   "cell_type": "markdown",
   "metadata": {},
   "source": [
    "# 0. Auxillary resources"
   ]
  },
  {
   "cell_type": "code",
   "execution_count": 263,
   "metadata": {},
   "outputs": [],
   "source": [
    "import os\n",
    "from hashlib import md5\n",
    "\n",
    "def get_unique_name(url, base_name):\n",
    "    \"\"\"\n",
    "    Handles the problem with file rewriting\n",
    "    \"\"\"\n",
    "    hash = md5((url + base_name).encode(\"utf-8\")).hexdigest()\n",
    "    # cnt, suffix = 0, \"\"\n",
    "\n",
    "    # while os.path.exists(hash + base_name + suffix):\n",
    "    #     cnt += 1\n",
    "    #     suffix = f\" ({cnt})\"\n",
    "    return hash + base_name\n",
    "    "
   ]
  },
  {
   "cell_type": "markdown",
   "metadata": {},
   "source": [
    "# 1. Crawler\n",
    "\n",
    "## 1.0. Related example\n",
    "\n",
    "This code shows `wget`-like tool written in python. Run it from console (`python wget.py`), make it work. Check the code, reuse, and modify for your needs."
   ]
  },
  {
   "cell_type": "code",
   "execution_count": 264,
   "metadata": {},
   "outputs": [],
   "source": [
    "import argparse\n",
    "import re\n",
    "import requests\n",
    "\n",
    "\n",
    "def wget(url):\n",
    "    # allow redirects - in case file is relocated\n",
    "    resp = requests.get(url, allow_redirects=True)\n",
    "    if not resp.ok:\n",
    "        return None, None\n",
    "\n",
    "    m = re.search(\"^http.*/([^/\\?#]*)[\\?#]?\", url)\n",
    "    filename = m.group(1)\n",
    "    if not filename:\n",
    "        raise NameError(f\"Filename neither given, nor found for {url}\")\n",
    "\n",
    "    return filename, resp.content"
   ]
  },
  {
   "cell_type": "markdown",
   "metadata": {},
   "source": [
    "### 1.0.1. How to parse a page?\n",
    "\n",
    "If you build a crawler, you might follow one of the approaches:\n",
    "1. search for URLs in the page, assuming this is just a text.\n",
    "2. search for URLs in the places where URLs should appear: `<a href=..`, `<img src=...`, `<iframe src=...` and so on.\n",
    "\n",
    "To follow the first approach you can rely on some good regular expression. [Like this](https://stackoverflow.com/a/3809435).\n",
    "\n",
    "To follow the second approach just read one of these: [short answer](https://stackoverflow.com/questions/1080411/retrieve-links-from-web-page-using-python-and-beautifulsoup) or [exhaustive explanation](https://hackersandslackers.com/scraping-urls-with-beautifulsoup/)."
   ]
  },
  {
   "cell_type": "markdown",
   "metadata": {},
   "source": [
    "## 1.1. [15] Download and persist #\n",
    "Please complete a code for `load()`, `download()` and `persist()` methods of `Document` class. What they do:\n",
    "- for a given URL `download()` method downloads binary data and stores in `self.content`. It returns `True` for success, else `False`.\n",
    "- `persist()` method saves `self.content` somewhere in file system. We do it to avoid multiple downloads (for caching in other words).\n",
    "- `load()` method loads data from hard drive. Returns `True` for success.\n",
    "\n",
    "Tests checks that your code somehow works.\n",
    "\n",
    "**NB Passing the test doesn't mean you correctly completed the task.** These are **criteria, which have to be fullfilled**:\n",
    "1. URL is a unique identifier (as it is a subset of URI). Thus, documents with different URLs should be stored in different files. Typical errors: documents from the same domain are overwritten to the same file, URLs with similar endings are downloaded to the same file, etc.\n",
    "2. The document can be not only a text file, but also a binary. Pay attention that if you download `mp3` file, it still can be played. Hint: don't hurry to convert everything to text."
   ]
  },
  {
   "cell_type": "code",
   "execution_count": 265,
   "metadata": {},
   "outputs": [],
   "source": [
    "import requests\n",
    "from urllib.parse import quote\n",
    "\n",
    "class Document:\n",
    "    \n",
    "    def __init__(self, url):\n",
    "        if url[-1] == '/':\n",
    "            url = url[:-1]\n",
    "\n",
    "        self.url = url\n",
    "        self.content = None\n",
    "        self._filename = None\n",
    "        \n",
    "    def get(self):\n",
    "        if not self.load():\n",
    "            if not self.download():\n",
    "                raise FileNotFoundError(self.url)\n",
    "            else:\n",
    "                self.persist()\n",
    "    \n",
    "    def download(self):\n",
    "        self._filename, self.content = wget(self.url)\n",
    "        self._filename = get_unique_name(self.url, self._filename)\n",
    "        return self.content is not None\n",
    "    \n",
    "    def persist(self):\n",
    "        if self.content is None:\n",
    "            raise ValueError(\"Invalid state: no content loaded\")\n",
    "        with open(self._filename, \"wb+\") as f:\n",
    "            f.write(self.content)\n",
    "\n",
    "            \n",
    "    def load(self):\n",
    "        if self._filename is None or not os.path.exists(self._filename):\n",
    "            return False\n",
    "        else:\n",
    "            try:\n",
    "                with open(self._filename, \"rb\") as f:\n",
    "                    self.content = f.read()\n",
    "            except (IOError, OSError):\n",
    "                return False\n",
    "            else:\n",
    "                return True\n",
    "            "
   ]
  },
  {
   "cell_type": "markdown",
   "metadata": {},
   "source": [
    "### 1.1.1. Tests ###"
   ]
  },
  {
   "cell_type": "code",
   "execution_count": 266,
   "metadata": {},
   "outputs": [],
   "source": [
    "doc = Document('http://sprotasov.ru/data/iu.txt')\n",
    "\n",
    "doc.get()\n",
    "assert doc.content, \"Document download failed\"\n",
    "assert \"Code snippets, demos and labs for the course\" in str(doc.content), \"Document content error\"\n",
    "\n",
    "doc.get()\n",
    "assert doc.load(), \"Load should return true for saved document\"\n",
    "assert \"Code snippets, demos and labs for the course\" in str(doc.content), \"Document load from disk error\""
   ]
  },
  {
   "cell_type": "code",
   "execution_count": 267,
   "metadata": {},
   "outputs": [],
   "source": [
    "music_doc = Document(\"https://download.samplelib.com/mp3/sample-3s.mp3\")\n",
    "music_doc.get()\n",
    "assert doc.content, \"Document download failed\""
   ]
  },
  {
   "cell_type": "markdown",
   "metadata": {},
   "source": [
    "## 1.2. [10] Parse HTML\n",
    "`BeautifulSoap` library is a de facto standard to parse XML and HTML documents in python. Use it to complete `parse()` method that extracts document contents. You should initialize:\n",
    "1. `self.anchors` list of tuples `('text', 'url')` met in a document. Be aware, there exist relative links (e.g. `../content/pic.jpg`). Use `urllib.parse.urljoin()` to fix this issue.\n",
    "2. `self.images` list of images met in a document. Again, links can be relative to current page.\n",
    "3. `self.text` should keep plain text of the document without scripts, tags, comments and so on. You can refer to [this stackoverflow answer](https://stackoverflow.com/a/1983219) for details.\n",
    "\n",
    "**NB All these 3 criteria must be fulfilled to get full point for the task.**"
   ]
  },
  {
   "cell_type": "code",
   "execution_count": 268,
   "metadata": {},
   "outputs": [],
   "source": [
    "import nltk\n",
    "\n",
    "from bs4 import BeautifulSoup\n",
    "from bs4.element import Comment\n",
    "import urllib.parse\n",
    "\n",
    "\n",
    "class HtmlDocument(Document):\n",
    "    \n",
    "    def parse(self):\n",
    "        if self.content is None:\n",
    "            raise ValueError(\"Invalid state: document is not loaded\")\n",
    "        \n",
    "        soup = BeautifulSoup(self.content)\n",
    "\n",
    "        anchors = soup.select(\"a\")\n",
    "        self.anchors = []\n",
    "\n",
    "        for anchor in anchors:\n",
    "            if anchor.has_attr(\"href\"):\n",
    "                self.anchors.append((anchor.string, urllib.parse.urljoin(self.url, anchor.attrs[\"href\"]),))\n",
    "        \n",
    "        self.text = soup.get_text(separator='\\n')\n",
    "        \n",
    "        images = soup.select(\"img\")\n",
    "        self.images = [ urllib.parse.urljoin(self.url, image.attrs[\"src\"]) for image in images]\n"
   ]
  },
  {
   "cell_type": "markdown",
   "metadata": {},
   "source": [
    "### 1.2.1. Tests"
   ]
  },
  {
   "cell_type": "code",
   "execution_count": 269,
   "metadata": {},
   "outputs": [],
   "source": [
    "doc = HtmlDocument(\"http://sprotasov.ru\")\n",
    "doc.get()\n",
    "doc.parse()\n",
    "\n",
    "assert \"just few links\" in doc.text, \"Error parsing text\"\n",
    "assert \"http://sprotasov.ru/images/gb.svg\" in doc.images, \"Error parsing images\"\n",
    "assert any(p[1] == \"https://twitter.com/07C3\" for p in doc.anchors), \"Error parsing links\""
   ]
  },
  {
   "cell_type": "code",
   "execution_count": 270,
   "metadata": {},
   "outputs": [
    {
     "name": "stdout",
     "output_type": "stream",
     "text": [
      "About | Aleksandr Lobanov\n",
      "Achievements\n",
      " \n",
      "About\n",
      " \n",
      "Projects\n",
      " \n",
      "Aleksandr Lobanov\n",
      "Aleksandr\n",
      "Lobanov\n",
      "Full Stack Developer & ML Engineer\n",
      "Nice to meet you! I am Alex, a frontend and backend developer, and a machine learning engineer. I am doing my bachelor's degree in Applied Artificial Intelligence at Innopolis University. I have been working on various projects such are web applications, analytics services, servers and others for three years. I am quickly trained and adaptive person who is always searching for something new and exciting. Also, I love participating in different competitions and often take the lead in them.\n",
      "Curriculum Vitae\n",
      "СV\n",
      "Projects\n",
      "About\n",
      " \n",
      "Achievements\n",
      "Projects\n",
      "About\n",
      "Nice to meet you! I am Alex, a frontend and backend developer, and a machine learning engineer. I am doing my bachelor's degree in Applied Artificial Intelligence at Innopolis University. I have been working on various projects such are web applications, analytics services, servers and others for three years. I am quickly trained and adaptive person who is always searching for something new and exciting. Also, I love participating in different competitions and often take the lead in them.\n",
      "Curriculum Vitae\n",
      "СV\n",
      "Projects\n"
     ]
    }
   ],
   "source": [
    "doc = HtmlDocument(\"https://alobanov.space\")\n",
    "doc.get()\n",
    "doc.parse()\n",
    "\n",
    "print(doc.text)"
   ]
  },
  {
   "cell_type": "markdown",
   "metadata": {},
   "source": [
    "## 1.3. [10] Document analysis ##\n",
    "Complete the code for `HtmlDocumentTextData` class. Implement word and sentence splitting (use any method you can propose). \n",
    "\n",
    "**Criteria to succeed in the task**: \n",
    "1. Your `get_word_stats()` method should return `Counter` object.\n",
    "2. Don't forget to lowercase your words for counting.\n",
    "3. Sentences should be obtained from inside `<body>` tag only."
   ]
  },
  {
   "cell_type": "code",
   "execution_count": 271,
   "metadata": {},
   "outputs": [],
   "source": [
    "from nltk.tokenize import sent_tokenize, word_tokenize\n",
    "from collections import Counter\n",
    "\n",
    "class HtmlDocumentTextData:\n",
    "    \n",
    "    def __init__(self, url):\n",
    "        self.doc = HtmlDocument(url)\n",
    "        self.doc.get()\n",
    "        self.doc.parse()\n",
    "    \n",
    "    def get_sentences(self):\n",
    "        result = sent_tokenize(self.doc.text)\n",
    "        return result\n",
    "    \n",
    "    def get_word_stats(self):\n",
    "        words = sum([word_tokenize(sent) for sent in self.get_sentences()], list())\n",
    "        words = list(filter(lambda x: x not in [\",\", \".\", \"!\", \":\", \";\"], words))\n",
    "        words = list(map(lambda s: s.lower(), words))\n",
    "        return Counter(words)"
   ]
  },
  {
   "cell_type": "markdown",
   "metadata": {},
   "source": [
    "### 1.3.1. Tests ###"
   ]
  },
  {
   "cell_type": "code",
   "execution_count": 272,
   "metadata": {},
   "outputs": [
    {
     "name": "stdout",
     "output_type": "stream",
     "text": [
      "[('и', 47), ('в', 27), ('иннополис', 22), ('университета', 16), ('университет', 12), ('на', 12), ('по', 12), ('центр', 11), ('с', 10), ('для', 9)]\n"
     ]
    }
   ],
   "source": [
    "doc = HtmlDocumentTextData(\"https://innopolis.university/\")\n",
    "\n",
    "print(doc.get_word_stats().most_common(10))\n",
    "assert [x for x in doc.get_word_stats().most_common(10) if x[0] == 'иннополис'], 'иннополис should be among most common'"
   ]
  },
  {
   "cell_type": "markdown",
   "metadata": {},
   "source": [
    "## 1.4. [15] Crawling ##\n",
    "\n",
    "Method `crawl_generator()` is given starting url (`source`) and max depth of search. It should return a **generator** of `HtmlDocumentTextData` objects (return a document as soon as it is downloaded and parsed). You can benefit from `yield obj_name` python construction. Use `HtmlDocumentTextData.anchors` field to go deeper."
   ]
  },
  {
   "cell_type": "code",
   "execution_count": 273,
   "metadata": {},
   "outputs": [],
   "source": [
    "from queue import Queue\n",
    "\n",
    "class Crawler:\n",
    "    \n",
    "    def crawl_generator(self, source, depth=1):\n",
    "        #TODO return real crawling results. Don't forget to process failures, \n",
    "        # exceptions, 3**, 4** codes\n",
    "        for i in range(3):\n",
    "            yield HtmlDocumentTextData(source)"
   ]
  },
  {
   "cell_type": "markdown",
   "metadata": {},
   "source": [
    "### 1.4.1. Tests ###"
   ]
  },
  {
   "cell_type": "code",
   "execution_count": 274,
   "metadata": {},
   "outputs": [
    {
     "name": "stdout",
     "output_type": "stream",
     "text": [
      "https://innopolis.university/en\n",
      "348 distinct word(s) so far\n",
      "https://innopolis.university/en\n",
      "348 distinct word(s) so far\n",
      "https://innopolis.university/en\n",
      "348 distinct word(s) so far\n",
      "Done\n",
      "[('the', 96), ('and', 93), ('of', 84), ('university', 72), ('innopolis', 48), ('in', 45), ('education', 42), ('research', 36), ('for', 33), ('it', 30), ('international', 30), ('to', 30), ('development', 21), ('a', 21), ('robotics', 18), ('russian', 18), ('will', 18), ('faculty', 15), ('field', 15), ('is', 15)]\n"
     ]
    }
   ],
   "source": [
    "crawler = Crawler()\n",
    "counter = Counter()\n",
    "\n",
    "for c in crawler.crawl_generator(\"https://innopolis.university/en/\", 2):\n",
    "    print(c.doc.url)\n",
    "    if c.doc.url[-4:] in ('.pdf', '.mp3', '.avi', '.mp4', '.txt'):\n",
    "        print(\"Skipping\", c.doc.url)\n",
    "        continue\n",
    "    counter.update(c.get_word_stats())\n",
    "    print(len(counter), \"distinct word(s) so far\")\n",
    "    \n",
    "print(\"Done\")\n",
    "\n",
    "print(counter.most_common(20))\n",
    "assert [x for x in counter.most_common(20) if x[0] == 'innopolis'], 'innopolis sould be among most common'"
   ]
  }
 ],
 "metadata": {
  "kernelspec": {
   "display_name": "mlenv",
   "language": "python",
   "name": "python3"
  },
  "language_info": {
   "codemirror_mode": {
    "name": "ipython",
    "version": 3
   },
   "file_extension": ".py",
   "mimetype": "text/x-python",
   "name": "python",
   "nbconvert_exporter": "python",
   "pygments_lexer": "ipython3",
   "version": "3.10.8"
  },
  "vscode": {
   "interpreter": {
    "hash": "08a1b6d78b12a873d45f962f98da3008f45af31f504ce721cfef4bd13a47bdbd"
   }
  }
 },
 "nbformat": 4,
 "nbformat_minor": 4
}
